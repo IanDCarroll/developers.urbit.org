{
 "cells": [
  {
   "cell_type": "code",
   "execution_count": 40,
   "id": "f11e2531",
   "metadata": {},
   "outputs": [],
   "source": [
    "from glob import glob\n",
    "\n",
    "filenames = glob('*-*.md')\n",
    "\n",
    "import re"
   ]
  },
  {
   "cell_type": "code",
   "execution_count": 43,
   "id": "4214fd19",
   "metadata": {},
   "outputs": [
    {
     "name": "stdout",
     "output_type": "stream",
     "text": [
      "A-intro.md\n",
      "B-syntax.md\n",
      "C-azimuth.md\n",
      "D-gates.md\n",
      "E-types.md\n",
      "F-cores.md\n",
      "G-trees.md\n",
      "H-libraries.md\n",
      "I-testing.md\n",
      "J-stdlib-text.md\n",
      "K-doors.md\n",
      "L-struct.md\n",
      "L2-struct.md\n",
      "M-logic.md\n",
      "N-subject.md\n",
      "O-stdlib-io.md\n",
      "P-func.md\n",
      "Q-metals.md\n",
      "R-math.md\n"
     ]
    }
   ],
   "source": [
    "for filename in sorted(filenames):\n",
    "    with open(filename, 'r') as f:\n",
    "        text = f.read()\n",
    "    text = text.replace('nodes: ', 'nodes: [')\n",
    "    sol  = text.find('nodes: [')\n",
    "    eol  = text[sol:].find('\\n') + sol\n",
    "    text = text[:eol]+']'+text[eol:]\n",
    "    \n",
    "    text = text.replace('objectives:\\n  - ', 'objectives: [')\n",
    "    sol  = text.find('objectives: [')\n",
    "    eol  = text[sol:].find('---') + sol\n",
    "    text = text[:eol]+']'+text[eol:]\n",
    "    i = sol\n",
    "    while text[i:i+3] != '---':\n",
    "        if text[i:i+5] == '\\n  - ':\n",
    "            text = text[:i]+\", \"+text[i+5:]\n",
    "        i += 1\n",
    "    \n",
    "    text = text.replace('\\n]---\\n', ']\\n+++\\n')\n",
    "    text = text.replace('---\\n', '+++\\n')\n",
    "    \n",
    "    with open(filename, 'w') as f:\n",
    "        f.write(text)\n",
    "    print(filename)"
   ]
  },
  {
   "cell_type": "code",
   "execution_count": 44,
   "id": "bb5f47b2",
   "metadata": {},
   "outputs": [
    {
     "name": "stdout",
     "output_type": "stream",
     "text": [
      "A-intro.md\n",
      "B-syntax.md\n",
      "C-azimuth.md\n",
      "D-gates.md\n",
      "E-types.md\n",
      "F-cores.md\n",
      "G-trees.md\n",
      "H-libraries.md\n",
      "I-testing.md\n",
      "J-stdlib-text.md\n",
      "K-doors.md\n",
      "L-struct.md\n",
      "L2-struct.md\n",
      "M-logic.md\n",
      "N-subject.md\n",
      "O-stdlib-io.md\n",
      "P-func.md\n",
      "Q-metals.md\n",
      "R-math.md\n"
     ]
    }
   ],
   "source": [
    "for filename in sorted(filenames):\n",
    "    with open(filename, 'r') as f:\n",
    "        text = f.read()\n",
    "    text = text.replace('\"], [\"', '\", \"')\n",
    "    with open(filename, 'w') as f:\n",
    "        f.write(text)\n",
    "    print(filename)"
   ]
  },
  {
   "cell_type": "code",
   "execution_count": 45,
   "id": "9399188a",
   "metadata": {},
   "outputs": [],
   "source": [
    "!git mv R-math.md S-math.md"
   ]
  },
  {
   "cell_type": "code",
   "execution_count": 46,
   "id": "07dae118",
   "metadata": {},
   "outputs": [],
   "source": [
    "!git mv Q-metals.md R-metals.md"
   ]
  },
  {
   "cell_type": "code",
   "execution_count": 48,
   "id": "a7e31ca0",
   "metadata": {},
   "outputs": [],
   "source": [
    "!git mv R-fund.md R-func.md"
   ]
  },
  {
   "cell_type": "code",
   "execution_count": 49,
   "id": "25bb6d78",
   "metadata": {},
   "outputs": [],
   "source": [
    "!git mv R-func.md Q-func.md"
   ]
  },
  {
   "cell_type": "code",
   "execution_count": 50,
   "id": "5a97e7f7",
   "metadata": {},
   "outputs": [],
   "source": [
    "!git mv O-stdlib-io.md P-stdlib-io.md"
   ]
  },
  {
   "cell_type": "code",
   "execution_count": 51,
   "id": "5063edea",
   "metadata": {},
   "outputs": [],
   "source": [
    "!git mv N-subject.md O-subject.md"
   ]
  },
  {
   "cell_type": "code",
   "execution_count": 52,
   "id": "4fef1acd",
   "metadata": {},
   "outputs": [],
   "source": [
    "!git mv M-logic.md N-logic.md"
   ]
  },
  {
   "cell_type": "code",
   "execution_count": 53,
   "id": "e875e80e",
   "metadata": {},
   "outputs": [],
   "source": [
    "!git mv L2-struct.md M-struct.md"
   ]
  },
  {
   "cell_type": "code",
   "execution_count": 54,
   "id": "a54b515d",
   "metadata": {},
   "outputs": [],
   "source": [
    "!sed -i 's/R-math.md/S-math.md/g' *.md"
   ]
  },
  {
   "cell_type": "code",
   "execution_count": 55,
   "id": "4271af78",
   "metadata": {},
   "outputs": [],
   "source": [
    "!sed -i 's/Q-metals.md/R-metals.md/g' *.md"
   ]
  },
  {
   "cell_type": "code",
   "execution_count": 56,
   "id": "0ca7cd68",
   "metadata": {},
   "outputs": [],
   "source": [
    "!sed -i 's/P-func.md/Q-func.md/g' *.md"
   ]
  },
  {
   "cell_type": "code",
   "execution_count": 57,
   "id": "ecb03df8",
   "metadata": {},
   "outputs": [],
   "source": [
    "!sed -i 's/O-stdlib-io.md/P-stdlib-io.md/g' *.md"
   ]
  },
  {
   "cell_type": "code",
   "execution_count": 58,
   "id": "92d1eb7b",
   "metadata": {},
   "outputs": [],
   "source": [
    "!sed -i 's/N-subject.md/O-subject.md/g' *.md"
   ]
  },
  {
   "cell_type": "code",
   "execution_count": 59,
   "id": "04de4f25",
   "metadata": {},
   "outputs": [],
   "source": [
    "!sed -i 's/M-logic.md/N-logic.md/g' *.md"
   ]
  },
  {
   "cell_type": "code",
   "execution_count": 60,
   "id": "5bc1bfa2",
   "metadata": {},
   "outputs": [],
   "source": [
    "!sed -i 's/L2-struct.md/M-struct.md/g' *.md"
   ]
  },
  {
   "cell_type": "code",
   "execution_count": 61,
   "id": "daf9b75e",
   "metadata": {},
   "outputs": [],
   "source": [
    "!git mv M-struct.md M-typecheck.md"
   ]
  },
  {
   "cell_type": "code",
   "execution_count": 62,
   "id": "264f0e44",
   "metadata": {},
   "outputs": [],
   "source": [
    "!sed -i 's/M-struct.md/M-typecheck.md/g' *.md"
   ]
  },
  {
   "cell_type": "code",
   "execution_count": null,
   "id": "b64a8014",
   "metadata": {},
   "outputs": [],
   "source": []
  }
 ],
 "metadata": {
  "kernelspec": {
   "display_name": "Python 3 (ipykernel)",
   "language": "python",
   "name": "python3"
  },
  "language_info": {
   "codemirror_mode": {
    "name": "ipython",
    "version": 3
   },
   "file_extension": ".py",
   "mimetype": "text/x-python",
   "name": "python",
   "nbconvert_exporter": "python",
   "pygments_lexer": "ipython3",
   "version": "3.9.7"
  }
 },
 "nbformat": 4,
 "nbformat_minor": 5
}
